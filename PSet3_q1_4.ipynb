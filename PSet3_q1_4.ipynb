{
 "cells": [
  {
   "cell_type": "markdown",
   "id": "249e5eec",
   "metadata": {},
   "source": [
    "# Problem Set 3: questions 1.3 and 1.4\n",
    "\n",
    "## Finite Sample Properties of Linear GMM\n",
    "\n",
    "This Python notebook answers questions 1.3-1.4 on Problem Set 3a.\n",
    "\n",
    "We consider the OLS model\n",
    "$$ y = \\alpha + X\\beta + u$$\n",
    "where\n",
    "$$E[X^Tu] = E[u] = 0.$$"
   ]
  },
  {
   "cell_type": "code",
   "execution_count": 1,
   "id": "c53254c7",
   "metadata": {},
   "outputs": [],
   "source": [
    "# Set up environment\n",
    "\n",
    "import numpy as np\n",
    "import pandas as pd\n",
    "import matplotlib.pyplot as plt\n",
    "import scipy.stats as iid\n",
    "from numpy.linalg import inv\n",
    "from scipy.optimize import minimize\n",
    "from matplotlib import pyplot as plt\n",
    "%matplotlib inline\n",
    "from scipy.stats import probplot"
   ]
  },
  {
   "cell_type": "markdown",
   "id": "8cea45ac",
   "metadata": {},
   "source": [
    "## Step 1: DGP\n",
    "\n",
    "We first describe the process that generates $(y,X,u)$.\n",
    "\n",
    "To do so, we impose \n",
    "$$Cov(x,u)=E[X^Tu] - E[X]E[u] = 0$$\n",
    "and assume $\\sigma_X=2$ and $u \\sim N(0,1).$"
   ]
  },
  {
   "cell_type": "code",
   "execution_count": 2,
   "id": "331292aa",
   "metadata": {},
   "outputs": [],
   "source": [
    "# Step 1: The DGP\n",
    "def dgp(true_beta, N):\n",
    "    \n",
    "    # Define Correlations between inputs (random variables) \n",
    "    sigma_xu = 0 # corr(x,u) = E(xu)-E(x)*E(u)\n",
    "    sigma_x  = 2 # Assumed as truth\n",
    "    sigma_u  = 1 # Assume u ~ N(0,1), E(u)=0 given. V\n",
    "    \n",
    "    # \n",
    "    cov_XU = np.array(\n",
    "        [[sigma_x**2, sigma_xu],\n",
    "        [sigma_xu,    sigma_u**2]])\n",
    "    \n",
    "    # Assume E(x) = 0.2\n",
    "    XU = iid.multivariate_normal(mean=[.2, 0],\n",
    "                                   cov=cov_XU).rvs(size = N)\n",
    "    \n",
    "    \n",
    "    X = XU[:, [0]] # Extract all rows in col 0 \n",
    "    u = XU[:, [1]] # Extract all rows in col 1\n",
    "    \n",
    "    # Calculate y\n",
    "    y = true_beta[0][0] + X*(true_beta[0][1]) + u\n",
    "    X = np.c_[np.ones(shape = (N,1)), X] # add intercept\n",
    "    \n",
    "    return (y, X)"
   ]
  },
  {
   "cell_type": "code",
   "execution_count": 3,
   "id": "1a4d599c",
   "metadata": {},
   "outputs": [],
   "source": [
    "# Step 2: create data\n",
    "N = 500\n",
    "beta_true = np.array((0.5, 0.75)).reshape(1,-1) # 1x2 array\n",
    "data = dgp(beta_true, N) # Tuple\n",
    "y, X = dgp(beta_true, N) # alternatively, unpack"
   ]
  },
  {
   "cell_type": "code",
   "execution_count": 4,
   "id": "28a48f6e",
   "metadata": {},
   "outputs": [
    {
     "data": {
      "text/html": [
       "<div>\n",
       "<style scoped>\n",
       "    .dataframe tbody tr th:only-of-type {\n",
       "        vertical-align: middle;\n",
       "    }\n",
       "\n",
       "    .dataframe tbody tr th {\n",
       "        vertical-align: top;\n",
       "    }\n",
       "\n",
       "    .dataframe thead th {\n",
       "        text-align: right;\n",
       "    }\n",
       "</style>\n",
       "<table border=\"1\" class=\"dataframe\">\n",
       "  <thead>\n",
       "    <tr style=\"text-align: right;\">\n",
       "      <th></th>\n",
       "      <th>y</th>\n",
       "      <th>const.</th>\n",
       "      <th>x1</th>\n",
       "    </tr>\n",
       "  </thead>\n",
       "  <tbody>\n",
       "    <tr>\n",
       "      <th>0</th>\n",
       "      <td>-0.293953</td>\n",
       "      <td>1.0</td>\n",
       "      <td>0.065407</td>\n",
       "    </tr>\n",
       "    <tr>\n",
       "      <th>1</th>\n",
       "      <td>0.359378</td>\n",
       "      <td>1.0</td>\n",
       "      <td>-0.479795</td>\n",
       "    </tr>\n",
       "    <tr>\n",
       "      <th>2</th>\n",
       "      <td>-0.887537</td>\n",
       "      <td>1.0</td>\n",
       "      <td>-0.336323</td>\n",
       "    </tr>\n",
       "    <tr>\n",
       "      <th>3</th>\n",
       "      <td>-0.024480</td>\n",
       "      <td>1.0</td>\n",
       "      <td>-0.384872</td>\n",
       "    </tr>\n",
       "    <tr>\n",
       "      <th>4</th>\n",
       "      <td>-0.082694</td>\n",
       "      <td>1.0</td>\n",
       "      <td>-0.764569</td>\n",
       "    </tr>\n",
       "  </tbody>\n",
       "</table>\n",
       "</div>"
      ],
      "text/plain": [
       "          y  const.        x1\n",
       "0 -0.293953     1.0  0.065407\n",
       "1  0.359378     1.0 -0.479795\n",
       "2 -0.887537     1.0 -0.336323\n",
       "3 -0.024480     1.0 -0.384872\n",
       "4 -0.082694     1.0 -0.764569"
      ]
     },
     "execution_count": 4,
     "metadata": {},
     "output_type": "execute_result"
    }
   ],
   "source": [
    "# View the dataset\n",
    "data_df = pd.DataFrame(np.concatenate(data, axis=1), columns = [\"y\", \"const.\", \"x1\"])\n",
    "data_df.head()"
   ]
  },
  {
   "cell_type": "markdown",
   "id": "743e4de0",
   "metadata": {},
   "source": [
    "## Step 3: set up the moment condition and $E[gg']=\\Omega^{-1}$\n",
    "\n",
    "We set up $g_j(b)$ followed by $g_N(b) = \\frac{1}{n} \\sum_{i=1}{n}g_j(b).$"
   ]
  },
  {
   "cell_type": "code",
   "execution_count": 5,
   "id": "aa6583fd",
   "metadata": {},
   "outputs": [],
   "source": [
    "def gj(betas, data):\n",
    "    # unpack my inputs\n",
    "    beta = betas\n",
    "    beta = np.array(beta).reshape(1,-1)\n",
    "    y, X = data\n",
    "    # set up moments (separately)\n",
    "    moment1 = X*(y-X@beta.T)\n",
    "    \n",
    "    # stack the moments next to each other\n",
    "    moments = np.concatenate([moment1], axis=1)\n",
    "    \n",
    "    return moments"
   ]
  },
  {
   "cell_type": "code",
   "execution_count": 6,
   "id": "cb37a764",
   "metadata": {},
   "outputs": [
    {
     "data": {
      "text/plain": [
       "array([[-0.8430078 , -0.05513821],\n",
       "       [ 0.21922414, -0.10518269],\n",
       "       [-1.13529458,  0.38182554],\n",
       "       [-0.23582648,  0.09076297],\n",
       "       [-0.00926804,  0.00708605]])"
      ]
     },
     "execution_count": 6,
     "metadata": {},
     "output_type": "execute_result"
    }
   ],
   "source": [
    "gj(beta_true, data)[:5] # these are pretty small, bc the betas are right!"
   ]
  },
  {
   "cell_type": "code",
   "execution_count": 7,
   "id": "f5930b4f",
   "metadata": {},
   "outputs": [
    {
     "data": {
      "text/plain": [
       "array([[-1.42476595, -0.09318899],\n",
       "       [ 0.31896814, -0.15303938],\n",
       "       [-1.21489098,  0.40859563],\n",
       "       [-0.25473667,  0.09804097],\n",
       "       [ 0.44644266, -0.34133602]])"
      ]
     },
     "execution_count": 7,
     "metadata": {},
     "output_type": "execute_result"
    }
   ],
   "source": [
    "beta_false = np.array((1,2)).reshape(1,2)\n",
    "gj(beta_false, data)[:5] # these are much larger!"
   ]
  },
  {
   "cell_type": "code",
   "execution_count": 8,
   "id": "e636e2bc",
   "metadata": {},
   "outputs": [],
   "source": [
    "def gN(beta, data):\n",
    "    # get individual moments\n",
    "    e = gj(beta, data)\n",
    "    # take mean\n",
    "    \n",
    "    if type(beta) is tuple:\n",
    "        dim1 = (len(beta))\n",
    "    else:\n",
    "        dim1 = 1\n",
    "    \n",
    "    # Check to see more obs. than moments.\n",
    "    assert e.shape[0] > e.shape[1], \"Need more observations than moments!\"\n",
    "    \n",
    "    gN = e.mean(axis=0)\n",
    "    return gN"
   ]
  },
  {
   "cell_type": "code",
   "execution_count": 9,
   "id": "702cab3c",
   "metadata": {},
   "outputs": [
    {
     "name": "stdout",
     "output_type": "stream",
     "text": [
      "using true beta: Eg_j =\n",
      " [-0.04750427  0.05289739]\n",
      "\n",
      "using other beta: Eg_j =\n",
      " [-0.94593826 -4.8190387 ]\n"
     ]
    }
   ],
   "source": [
    "# test: we want these = 0!\n",
    "print(f\"using true beta: Eg_j =\\n {gN(beta_true, data)}\\n\")\n",
    "print(f\"using other beta: Eg_j =\\n {gN(beta_false, data)}\")"
   ]
  },
  {
   "cell_type": "code",
   "execution_count": 10,
   "id": "81fe48f8",
   "metadata": {},
   "outputs": [],
   "source": [
    "def invOmega(beta, data):\n",
    "    #print(beta)\n",
    "    e = gj(beta, data)\n",
    "    # recenter\n",
    "    e = e - e.mean(axis=0)\n",
    "\n",
    "    N = e.shape[0]\n",
    "    var = e.T@e/N\n",
    "    return np.linalg.inv(var)"
   ]
  },
  {
   "cell_type": "markdown",
   "id": "34a98dd9",
   "metadata": {},
   "source": [
    "## Step 4: Set up the criterion function"
   ]
  },
  {
   "cell_type": "code",
   "execution_count": 11,
   "id": "7b825474",
   "metadata": {},
   "outputs": [],
   "source": [
    "# putting it all together, we get the objective function we want to minimize:\n",
    "def J(beta,invomega,data):\n",
    "    \n",
    "    g = gN(beta,data) # Sample moments\n",
    "    N = data[0].shape[0]\n",
    "\n",
    "    return (N*g.T)@invomega@g # .squeeze() # Scale by sample size"
   ]
  },
  {
   "cell_type": "code",
   "execution_count": 12,
   "id": "84a4b55b",
   "metadata": {},
   "outputs": [
    {
     "name": "stdout",
     "output_type": "stream",
     "text": [
      "J at the true beta = 1.7159415217902925\n",
      "J at some wrong beta = 238.7912285022252\n"
     ]
    }
   ],
   "source": [
    "print(f'J at the true beta = {J(beta_true,invOmega(beta_true, data),data)}')\n",
    "print(f'J at some wrong beta = {J(beta_false,invOmega(beta_false, data),data)}')"
   ]
  },
  {
   "cell_type": "markdown",
   "id": "7e03861f",
   "metadata": {},
   "source": [
    "## Step 5: Use the two_step_gmm algorithm to find $\\hat{\\beta}_{GMM}.$"
   ]
  },
  {
   "cell_type": "code",
   "execution_count": 13,
   "id": "f6d3d007",
   "metadata": {},
   "outputs": [],
   "source": [
    "def two_step_gmm(beta_true, data):\n",
    "    \n",
    "    # First step uses identity weighting matrix\n",
    "    W1 = np.eye(gj(beta_true,data).shape[1])\n",
    "    \n",
    "    opt_output = minimize(lambda b: J(b, W1, data), x0 = [0.5, 0.75], method = 'Nelder-Mead') \n",
    "    b1 = opt_output.x\n",
    "    \n",
    "    # Construct 2nd step weighting matrix using\n",
    "    # first step estimate of beta\n",
    "    W2 = invOmega(b1,data)\n",
    "\n",
    "    return minimize(lambda b: J(b,W2,data), x0 = b1, method = 'Nelder-Mead')"
   ]
  },
  {
   "cell_type": "code",
   "execution_count": 14,
   "id": "f36c2831",
   "metadata": {},
   "outputs": [],
   "source": [
    "soltn = two_step_gmm(beta_true, data).x"
   ]
  },
  {
   "cell_type": "markdown",
   "id": "b4a5029e",
   "metadata": {},
   "source": [
    "## Setp 6: Simulations\n",
    "\n",
    "### Step 6.1: Monte Carlo Experiment\n",
    "\n",
    "we draw repeated samples of data, each generating a corresponding estimate of beta. Then the empirical distribution of these samples tells us about the *finite* sample performance of our estimator.\n",
    "\n",
    "We will generate a sample of estimates of $b$ by drawing repeated samples of size $N$:\n",
    "\n"
   ]
  },
  {
   "cell_type": "code",
   "execution_count": 15,
   "id": "f545f7c5",
   "metadata": {},
   "outputs": [],
   "source": [
    "N = 1000 # Sample size\n",
    "\n",
    "D = 1000 # Monte Carlo draws\n",
    "\n",
    "b0_draws = []\n",
    "b1_draws = []\n",
    "J_draws = []\n",
    "for d in range(D):\n",
    "    \n",
    "    output = two_step_gmm(beta_true, dgp(beta_true, N))\n",
    "    \n",
    "    J_draws.append(output.fun)\n",
    "    soltn = output.x\n",
    "\n",
    "    beta_0 = soltn[0]\n",
    "    beta_1 = soltn[1]\n",
    "    b0_draws.append(beta_0)\n",
    "    b1_draws.append(beta_1)\n"
   ]
  },
  {
   "cell_type": "code",
   "execution_count": 16,
   "id": "b65575fd",
   "metadata": {},
   "outputs": [
    {
     "data": {
      "image/png": "[encoded data removed]",
      "text/plain": [
       "<Figure size 640x480 with 1 Axes>"
      ]
     },
     "metadata": {},
     "output_type": "display_data"
    }
   ],
   "source": [
    "# Plot beta_0 and true beta_0\n",
    "_ = plt.hist(b0_draws,bins=int(np.ceil(np.sqrt(D))))\n",
    "_ = plt.axvline(beta_true[0][0],color='r')"
   ]
  },
  {
   "cell_type": "code",
   "execution_count": 17,
   "id": "7d2a99f6",
   "metadata": {},
   "outputs": [
    {
     "data": {
      "image/png": "[encoded data removed]",
      "text/plain": [
       "<Figure size 640x480 with 1 Axes>"
      ]
     },
     "metadata": {},
     "output_type": "display_data"
    }
   ],
   "source": [
    "# Plot beta_1 and true beta_1\n",
    "_ = plt.hist(b1_draws,bins=int(np.ceil(np.sqrt(D))))\n",
    "_ = plt.axvline(beta_true[0][1],color='r')"
   ]
  },
  {
   "cell_type": "markdown",
   "id": "ccc466fe",
   "metadata": {},
   "source": [
    "## Step 6.2: Distribution of Monte Carlo draws vs. asymptotic distribution\n",
    "\n",
    "The betas in the plots above seem to follow a normal distribution. To test this, we display a PP-Plot of the betas from our Monte Carlo experiment against betas drawn from the true distribution. \n",
    "\n",
    "The true distribution of beta (a random vector) follows a multivariate normal distribution centered at the true values and spread according to the covariance matrix estimator\n",
    "$$V_{\\beta} = (Q^T\\Omega^{-1}Q)^{-1}$$\n",
    "which we estimate using our data and true parameter values as follows:\n",
    "$$\\hat{V}_{\\beta} = (\\hat{Q}^T\\hat{\\Omega}^{-1}\\hat{Q})^{-1} .$$\n",
    "Thus the asymptotic standard errors of our parameters are given by\n",
    "$$Se(\\beta) = \\sqrt{\\frac{\\hat{V}_{\\beta}}{n}} .$$"
   ]
  },
  {
   "cell_type": "code",
   "execution_count": 18,
   "id": "a51eaada",
   "metadata": {},
   "outputs": [],
   "source": [
    "def Q(data):\n",
    "\n",
    "    y,X = data\n",
    "    \n",
    "    # Edgj/db'\n",
    "    return X.T@X/N "
   ]
  },
  {
   "cell_type": "code",
   "execution_count": 19,
   "id": "efcc8468",
   "metadata": {},
   "outputs": [],
   "source": [
    "# Generate betas for each N given asymptotic variance defined above\n",
    "\n",
    "# Limiting SE of b\n",
    "Q = Q(data)\n",
    "W = invOmega(beta_true, data)\n",
    "V_beta = lambda N: inv(Q.T@W@Q) # 2x2 matrix\n",
    "\n",
    "# We know that the random vector beta has correlated elements hence we could\n",
    "# generate a multivariate normal probability density as follows\n",
    "limiting_b  = iid.multivariate_normal(mean=[beta_true[0][0], beta_true[0][1]],\n",
    "                                      cov=V_beta(N))\n",
    "\n",
    "# But we also know that the marginal density of each beta is simply normal\n",
    "limiting_b0 = iid.norm(loc = beta_true[0][0], scale = np.sqrt(V_beta(N)[0][0]/N) ) # se = sqrt(v/n)\n",
    "limiting_b1 = iid.norm(loc = beta_true[0][1], scale = np.sqrt(V_beta(N)[1][1]/N) ) \n"
   ]
  },
  {
   "cell_type": "code",
   "execution_count": 20,
   "id": "50c73762",
   "metadata": {
    "scrolled": true
   },
   "outputs": [
    {
     "data": {
      "image/png": "[encoded data removed]",
      "text/plain": [
       "<Figure size 640x480 with 1 Axes>"
      ]
     },
     "metadata": {},
     "output_type": "display_data"
    }
   ],
   "source": [
    "# beta_0\n",
    "_ = probplot(b0_draws,dist=limiting_b0,fit=False,plot=plt)"
   ]
  },
  {
   "cell_type": "code",
   "execution_count": 21,
   "id": "d5123ddc",
   "metadata": {
    "scrolled": true
   },
   "outputs": [
    {
     "data": {
      "image/png": "[encoded data removed]",
      "text/plain": [
       "<Figure size 640x480 with 1 Axes>"
      ]
     },
     "metadata": {},
     "output_type": "display_data"
    }
   ],
   "source": [
    "# beta_1\n",
    "_ = probplot(b1_draws,dist=limiting_b1,fit=False,plot=plt)"
   ]
  },
  {
   "cell_type": "markdown",
   "id": "c8cfb3f4",
   "metadata": {},
   "source": [
    "Finally, consider the a $p$-$p$ plot for the $J$ statistic. This plot is not feasible for the model in question 1.2.b. \n",
    "\n",
    "Recall that $J$ should be distributed $\\chi^2_{\\ell-k}$ where $\\ell$ is the number of moments and $k$ is the number of parameters. In this example, the model is just-identified ($\\ell = k$). That is, we are certain to find parameters that satisfy the moment conditions, and the criterion function need not be minimized because $\\exists \\beta : J(\\beta)=0$. In particular,\n",
    "\n",
    "$$ \\hat{\\beta}_{MM} = argmin_{\\beta} J_n(\\beta).$$\n",
    "In other words,\n",
    "$$J(\\hat{\\beta}_{MM}) = 0$$\n",
    "such that \n",
    "$$\\hat{\\beta}_{GMM} = \\hat{\\beta}_{MM} .$$"
   ]
  }
 ],
 "metadata": {
  "kernelspec": {
   "display_name": "Python 3 (ipykernel)",
   "language": "python",
   "name": "python3"
  },
  "language_info": {
   "codemirror_mode": {
    "name": "ipython",
    "version": 3
   },
   "file_extension": ".py",
   "mimetype": "text/x-python",
   "name": "python",
   "nbconvert_exporter": "python",
   "pygments_lexer": "ipython3",
   "version": "3.9.13"
  }
 },
 "nbformat": 4,
 "nbformat_minor": 5
}
