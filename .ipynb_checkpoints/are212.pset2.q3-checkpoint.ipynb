{
 "cells": [
  {
   "cell_type": "markdown",
   "metadata": {},
   "source": [
    "## Questions 3.2.1-3\n",
    "\n",
    "We modify the framework in Wright (1934) to allow for a \"plausibly exogenous\" insturment a la Conley, C. B. Hansen, and Rossi (2012).\n"
   ]
  },
  {
   "cell_type": "markdown",
   "metadata": {},
   "source": [
    "### Data-generating process and estimation method\n",
    "\n"
   ]
  },
  {
   "cell_type": "markdown",
   "metadata": {},
   "source": [
    "Set up an IV estimator that returns $\\beta_{IV} = (Z^T X)^{-1}Z^Ty)$ for some data generating progress. \n",
    "\n",
    "Note that, under the assumptions of the model, a Central Limit Theorem applies so it is asymptotically normal. \n",
    "\n",
    "We let the estimator $b$ be a random variable and the data-generating process be such that $Z$ and $X$ have a linear relationship."
   ]
  },
  {
   "cell_type": "code",
   "execution_count": 33,
   "metadata": {},
   "outputs": [],
   "source": [
    "import numpy as np\n",
    "import pandas as pd\n",
    "from scipy.stats import distributions as iid\n",
    "from matplotlib import pyplot as plt\n",
    "\n",
    "\n",
    "def draw_b(N,dgp):\n",
    "    \"\"\"\n",
    "    Generate a random variate $b$ from a sample of $N$ draws from a function dgp.\n",
    "    \"\"\"\n",
    "    y,X,Z =  dgp(N) # get regression variables\n",
    "    \n",
    "    # get projection matrix P = Z(Z'Z)^{-1}Z'\n",
    "    P = np.dot(Z,np.linalg.inv(Z.T@Z)@Z.T) # dot function needed. Such a pain to figure out (see link)\n",
    "    # https://stackoverflow.com/questions/17836880/orthogonal-projection-with-numpy\n",
    "    \n",
    "    beta_2sls = np.linalg.solve(Z.T@X,Z.T@y) # get beta\n",
    "    beta_2sls = beta_2sls[1] # for nonconstant term only\n",
    "    # Note that beta_2sls naturally has \n",
    "    #   var(beta(gamma)) = s2 * np.linalg.inv(X.T@P@X) \n",
    "    #     where s2 = e.T@e/(N-k)\n",
    "    #     and e = y - X@beta_2sls - np.asmatrix(df['z']*gamma).T\n",
    "    \n",
    "    # A matrix used in question 3.2.2 below\n",
    "    A = np.linalg.inv( X.T@Z @np.linalg.solve(Z.T@Z,Z.T@X) ) @ X.T@Z # 2x2 matrix\n",
    "    A = A['z'][1] # get bottom left term of matrix A\n",
    "    \n",
    "    return beta_2sls, A\n",
    "\n",
    "def draw_F(mu_gamma_true):\n",
    "    \"\"\"\n",
    "    Generate a random variable $gamma$ from a sample of 1 draw from any distribution, here normal.\n",
    "    Used in question 3.2.2 below.\n",
    "\n",
    "    \"\"\"\n",
    "    # Create noncentered gamma with a normal distribution with sigma_gamma=1 (homoeskedastic) for simplicity\n",
    "    sigma_gamma_true = 1\n",
    "\n",
    "    gamma_draw = iid.norm(loc=mu_gamma_true, scale=sigma_gamma_true).rvs(1)\n",
    "    \n",
    "    return gamma_draw\n",
    "\n",
    "\n",
    "def linear_dgp_new(N,beta,gamma,pi,sigma_u,sigma_v):\n",
    "    \"\"\"\n",
    "    Generate data consistent with Wright (1934) hog demand and supply.\n",
    "\n",
    "    Returns a pandas dataframe with N observations on (p,q,z), where\n",
    "    z is understood to be a supply shock.\n",
    "    \"\"\"\n",
    "    \n",
    "    u = iid.norm(scale=sigma_u).rvs(N)\n",
    "    v = iid.norm(scale=sigma_v).rvs(N)\n",
    "    Z = iid.norm().rvs(N)\n",
    "\n",
    "    X = Z*pi + v\n",
    "    y = X*beta + Z*gamma + u  # plausible exogeneity: adding the term Z*gamma to the original Wright (1934) framework\n",
    "\n",
    "    df = pd.DataFrame({'y':y,'x':X,'z':Z,'Constant':1})\n",
    "    \n",
    "    return df[['y']],df[['Constant','x']],df[['Constant','z']] \n",
    "\n"
   ]
  },
  {
   "cell_type": "markdown",
   "metadata": {},
   "source": [
    "## Q 3.2.1: \n",
    "Explore how $b(\\gamma)$ varies with $\\gamma$. Note that, in this model, when $\\gamma=0$, $\\beta=1$."
   ]
  },
  {
   "cell_type": "markdown",
   "metadata": {},
   "source": [
    "Repeatedly draw new random samples and estimate b from them. We define the data generating process above as linear_dgp_new. "
   ]
  },
  {
   "cell_type": "code",
   "execution_count": 42,
   "metadata": {},
   "outputs": [
    {
     "data": {
      "text/plain": [
       "0   -0.256844\n",
       "dtype: float64"
      ]
     },
     "execution_count": 42,
     "metadata": {},
     "output_type": "execute_result"
    }
   ],
   "source": [
    "# Test run with gamma = 0\n",
    "\n",
    "B = pd.DataFrame({}) # create empty dataframe \n",
    "gammas = [0] #iterate over list of gammas\n",
    "for gamma in gammas:\n",
    "    B[gamma] = pd.DataFrame([draw_b(100,\n",
    "                                    lambda N: linear_dgp_new(N,1,gamma,.01,1,1))[0] for i in range(1000)])\n",
    "    \n",
    "B.mean() # print means\n"
   ]
  },
  {
   "cell_type": "code",
   "execution_count": null,
   "metadata": {},
   "outputs": [],
   "source": [
    "B.hist(bins=int(np.ceil(np.sqrt(B.shape[0]))))\n",
    "plt.axvline(x=beta_true, color='r', label='True beta')\n"
   ]
  },
  {
   "cell_type": "markdown",
   "metadata": {},
   "source": [
    "With $\\gamma \\neq 0$, we have the estimates for b shown below. As $\\gamma$ moves away from zero, exogeneity is no longer plausible and beta is not centered at its true value of 1."
   ]
  },
  {
   "cell_type": "code",
   "execution_count": 41,
   "metadata": {},
   "outputs": [
    {
     "data": {
      "text/plain": [
       "-0.01    0.743565\n",
       " 0.00    1.854230\n",
       " 0.01    1.577826\n",
       "dtype: float64"
      ]
     },
     "execution_count": 41,
     "metadata": {},
     "output_type": "execute_result"
    }
   ],
   "source": [
    "B = pd.DataFrame({}) # create empty dataframe \n",
    "gammas = [-0.01,0,0.01]# [-100,-1,-0.01,0,0.01,1,100] #iterate over list of gammas\n",
    "for gamma in gammas:\n",
    "    B[gamma] = pd.DataFrame([draw_b(100,\n",
    "                                    lambda N: linear_dgp_new(N,1,gamma,.01,1,1))[0] for i in range(100)])\n",
    "\n",
    "B.mean() # print means"
   ]
  },
  {
   "cell_type": "markdown",
   "metadata": {
    "slideshow": {
     "slide_type": "subslide"
    }
   },
   "source": [
    "## Q 3.2.2\n",
    "\n",
    "To test the null that $b(\\gamma) = b(0)=1$, we construct confidence intervals using the variance of $\\beta.$ As explained in Conley, Hansen, and Rossi (2012), these confidence intervals can be estimated in four different ways:\n",
    "\n",
    "1. Union of confidence intervals with $\\gamma$ support assumption\n",
    "2. Union of prior-weighted confidence intervals\n",
    "3. $\\gamma$ local-to-zero approximation\n",
    "4. Full Bayesian analysis\n",
    "\n",
    "I opt for the third method where we impose an assumption on the distribution of gamma. \n",
    "If we are convinced about the exclusion restriction, then $\\gamma=0$ and this exercise is unnecessary. If not, the distrubution of $\\beta$ has an additional term, $A\\gamma$. That is,\n",
    "\n",
    "$$\\hat{\\beta} \\sim N(\\beta, V_{2SLS}) + A\\gamma $$\n",
    "\n",
    "where $A = (X'Z(Z'Z)^{-1}Z'X)^{-1}(X'Z)$ and $\\gamma \\sim F$ for some distribution F. \n",
    "\n",
    "To test whether $b(\\gamma) = b(0)$, we construct $\\Delta = \\beta - \\hat{\\beta}$ such that\n",
    "\n",
    "$\n",
    "\\begin{align}\n",
    "    \\hat{\\beta} & \\sim N(\\beta, V_{2SLS}) + A\\gamma \\\\\n",
    "    \\beta - \\hat{\\beta} & \\sim \\beta -  N(\\beta, V_{2SLS}) + A\\gamma \\\\\n",
    "    \\Delta & \\sim  N(\\beta -\\beta, V_{2SLS}) + A\\gamma \\\\\n",
    "    \\Delta & \\sim  N(0, V_{2SLS}) + A\\gamma\n",
    "\\end{align}\n",
    "$\n",
    "\n",
    "and follow the five steps below proposed in Conley, Hansen, and Rossi (2012) section III.C. Here we assume for simplicity that $\\gamma \\sim N(\\mu_{\\gamma}, \\sigma_{\\gamma}=1)$.\n",
    "\n",
    "1. Use any standard software package to compute A and the 2SLS covariance matrix $V_{2SLS}$.\n",
    "2. Generate one draw, $\\Delta_1$, from the desired distribution by generating a $N(0, V_{2SLS})$ draw and adding it to A times a draw from F.\n",
    "3. Repeat step 2 B times for some large number B to generate a set of $\\Delta$ draws: $\\Delta_1$, $\\Delta_2$, ... ,$\\Delta_B$.\n",
    "4. Compute percentiles of the B draws to use for confidence intervals. For example, find the $\\alpha/2$ and $1 − \\alpha/2$ percentiles, and label them $c_{\\alpha/2}$ and $c_{1−\\alpha/2}$, respectively.\n",
    "5. Construct a $(1 − \\alpha)$, confidence interval for $\\beta$ as [$\\hat{\\beta} - c_{1−\\alpha/2}$,  $\\hat{\\beta}-c_{\\alpha/2}]$.\n"
   ]
  },
  {
   "cell_type": "code",
   "execution_count": 27,
   "metadata": {},
   "outputs": [
    {
     "data": {
      "text/plain": [
       "100   -2817.127788\n",
       "dtype: float64"
      ]
     },
     "execution_count": 27,
     "metadata": {},
     "output_type": "execute_result"
    }
   ],
   "source": [
    "delta = pd.DataFrame({}) # create empty dataframe \n",
    "gammas = [100] #iterate over list of gammas\n",
    "\n",
    "# Steps 1 - 3\n",
    "for gamma in gammas:\n",
    "    \n",
    "    # Draw values of beta from 2sls as before and\n",
    "    # Draw values of gamma assuming a normal distribution defined in draw_F\n",
    "    \n",
    "    temp = pd.DataFrame([draw_b(100,lambda N: linear_dgp_new(N,1,gamma,.01,1,1)) for i in range(1000)])\n",
    "    beta = np.float32(temp[0]) # np.float needed for quantile function below\n",
    "    A = np.float32(temp[1])\n",
    "\n",
    "    delta[gamma] = beta + draw_F(gamma)*A \n",
    "    \n",
    "delta.mean() # print means"
   ]
  },
  {
   "cell_type": "code",
   "execution_count": 24,
   "metadata": {},
   "outputs": [
    {
     "data": {
      "text/plain": [
       "<matplotlib.lines.Line2D at 0x18fe05fe6a0>"
      ]
     },
     "execution_count": 24,
     "metadata": {},
     "output_type": "execute_result"
    },
    {
     "data": {
      "image/png": "[encoded data removed]",
      "text/plain": [
       "<Figure size 640x480 with 1 Axes>"
      ]
     },
     "metadata": {},
     "output_type": "display_data"
    }
   ],
   "source": [
    "# plot histogram for given value of gamma\n",
    "delta.hist(bins=int(np.ceil(np.sqrt(delta.shape[0]))))\n",
    "plt.axvline(x=beta_true, color='r', label='True beta')\n"
   ]
  },
  {
   "cell_type": "markdown",
   "metadata": {},
   "source": [
    "Compute percentiles of the B draws to use for confidence intervals. That is, find the $\\alpha/2$ and $1 − \\alpha/2$ percentiles, and label them $c_{\\alpha/2}$ and $c_{1−\\alpha/2}$, respectively."
   ]
  },
  {
   "cell_type": "code",
   "execution_count": 25,
   "metadata": {},
   "outputs": [
    {
     "data": {
      "text/plain": [
       "(array([-24.46607], dtype=float32), array([17.952896], dtype=float32))"
      ]
     },
     "execution_count": 25,
     "metadata": {},
     "output_type": "execute_result"
    }
   ],
   "source": [
    "# Step 4\n",
    "confidence = 0.95\n",
    "alpha = 1 - confidence\n",
    "c_a2 = np.float32(delta.quantile(alpha/2))\n",
    "c_1_less_a2 = np.float32(delta.quantile(1-alpha/2))\n",
    "c_a2, c_1_less_a2"
   ]
  },
  {
   "cell_type": "markdown",
   "metadata": {},
   "source": [
    "We construct a $(1 − \\alpha)$, confidence interval for $\\beta$ as [$\\hat{\\beta} - c_{1−\\alpha/2}$,  $\\hat{\\beta}-c_{\\alpha/2}]$."
   ]
  },
  {
   "cell_type": "code",
   "execution_count": 26,
   "metadata": {},
   "outputs": [
    {
     "data": {
      "text/plain": [
       "(0.5   -18.642769\n",
       " dtype: float64,\n",
       " 0.5    23.776197\n",
       " dtype: float64)"
      ]
     },
     "execution_count": 26,
     "metadata": {},
     "output_type": "execute_result"
    }
   ],
   "source": [
    "# Step 5\n",
    "# beta_hat = beta-delta\n",
    "beta_hat = 1 - delta.mean() # not sure about this step. What is beta_hat?\n",
    "CI = beta_hat - c_1_less_a2, beta_hat - c_a2\n",
    "CI"
   ]
  },
  {
   "cell_type": "markdown",
   "metadata": {},
   "source": [
    "We cannot reject the null hypothesis that $b(\\gamma)=b(0)=1$ when we assume that $\\gamma \\sim N(\\mu_{\\gamma}=0.5, \\sigma_{\\gamma}=1)$."
   ]
  },
  {
   "cell_type": "markdown",
   "metadata": {},
   "source": [
    "## Q 3.2.3\n",
    "\n",
    "We extend the analysis from the previous question. Instead of setting $\\gamma$ directly, here we set the covariance between the instrument $Z$ and the endogenous regressor $X$. Recall that $\\gamma=Cov(Z,X)/Var(Z)$.\n",
    "\n",
    "To test the null that $b(\\gamma) = b(0)=1$ it is easier in this case to use approach 1 in Conley et al. (2012). This approach involves taking the union of confidence intervals for different values of gamma. \n",
    "\n",
    "We start with a list of plausible values for $Cov(Z,X)=\\sigma_{Z,X}$. For each value in the list, we compute $\\gamma$ and the associated confidence interval. Then we take the union of these confidence intervals.\n"
   ]
  },
  {
   "cell_type": "code",
   "execution_count": 18,
   "metadata": {},
   "outputs": [],
   "source": [
    "# Can flesh out but wanted to get people's thoughts before spending more time. \n",
    "# It seems there room for subjectivity given the 4 different approaches"
   ]
  }
 ],
 "metadata": {
  "kernelspec": {
   "display_name": "Python 3 (ipykernel)",
   "language": "python",
   "name": "python3"
  },
  "language_info": {
   "codemirror_mode": {
    "name": "ipython",
    "version": 3
   },
   "file_extension": ".py",
   "mimetype": "text/x-python",
   "name": "python",
   "nbconvert_exporter": "python",
   "pygments_lexer": "ipython3",
   "version": "3.9.13"
  },
  "org": null
 },
 "nbformat": 4,
 "nbformat_minor": 1
}
