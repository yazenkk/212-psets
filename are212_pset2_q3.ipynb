{
 "cells": [
  {
   "cell_type": "markdown",
   "metadata": {},
   "source": [
    "## Instrumental Variables in Canonical Demand & Supply Model\n",
    "\n",
    "\n"
   ]
  },
  {
   "cell_type": "markdown",
   "metadata": {},
   "source": [
    "### Data-Generating Process\n",
    "\n"
   ]
  },
  {
   "cell_type": "markdown",
   "metadata": {},
   "source": [
    "Set up an IV estimator that returns $\\beta_{IV} = (Z^T X)^{-1}Z^Ty)$ for some "
   ]
  },
  {
   "cell_type": "code",
   "execution_count": 2,
   "metadata": {},
   "outputs": [],
   "source": [
    "import numpy as np\n",
    "import pandas as pd\n",
    "\n",
    "def draw_b(N,dgp):\n",
    "    \"\"\"\n",
    "    Generate a random variate $b$ from a sample of $N$ draws from a function dgp.\n",
    "    \"\"\"\n",
    "    y,X,Z =  dgp(N) # get regression variables\n",
    "    \n",
    "    # get projection matrix P = Z(Z'Z)^{-1}Z'\n",
    "    P = np.dot(Z,np.linalg.inv(Z.T@Z)@Z.T) # dot function needed. Such a pain to figure out (see link)\n",
    "    # https://stackoverflow.com/questions/17836880/orthogonal-projection-with-numpy\n",
    "    \n",
    "    beta_2sls = np.linalg.solve(Z.T@X,Z.T@y) # get beta\n",
    "    beta_2sls = beta_2sls[1] # for nonconstant term only\n",
    "    # Note that beta_2sls naturally has \n",
    "    #   var(beta(gamma)) = s2 * np.linalg.inv(X.T@P@X) \n",
    "    #     where s2 = e.T@e/(N-k)\n",
    "    #     and e = y - X@beta_2sls - np.asmatrix(df['z']*gamma).T\n",
    "    \n",
    "    # A matrix used in question 3.2.2 below\n",
    "    A = np.linalg.inv( X.T@Z @np.linalg.solve(Z.T@Z,Z.T@X) ) @ X.T@Z # 2x2 matrix\n",
    "    A = A['z'][1] # get bottom left term of matrix A\n",
    "    \n",
    "    return beta_2sls, A\n",
    "\n",
    "def draw_F(mu_gamma_true):\n",
    "    \"\"\"\n",
    "    Generate a random variate $gamma$ from a sample of 1 draw from any distribution, here normal\n",
    "    Gamma used in question 3.2.2 below\n",
    "\n",
    "    \"\"\"\n",
    "    # Create noncentered gamma with a normal distribution with sigma_gamma=1 (homoeskedastic) for simplicity\n",
    "    sigma_gamma_true = 1\n",
    "\n",
    "    gamma_draw = iid.norm(loc=mu_gamma_true, scale=sigma_gamma_true).rvs(1)\n",
    "    \n",
    "    return gamma_draw\n"
   ]
  },
  {
   "cell_type": "markdown",
   "metadata": {},
   "source": [
    "### Inference\n",
    "\n"
   ]
  },
  {
   "cell_type": "markdown",
   "metadata": {},
   "source": [
    "First note that, under the assumptions of the *model*, a Central Limit Theorem applies so it is asymptotically normal. \n",
    "\n",
    "We let the estimator $b$ be a random variable and the data-generating process be such that $Z$ and $X$ have a linear relationship."
   ]
  },
  {
   "cell_type": "markdown",
   "metadata": {},
   "source": [
    "## Q 3.2.1: \n",
    "Explore how $b(\\gamma)$ varies with $\\gamma$. Note that, in this model, when $\\gamma=0$, $\\beta=1$."
   ]
  },
  {
   "cell_type": "code",
   "execution_count": 3,
   "metadata": {},
   "outputs": [],
   "source": [
    "from scipy.stats import distributions as iid\n",
    "from matplotlib import pyplot as plt\n",
    "\n",
    "\n",
    "def linear_dgp_new(N,beta,gamma,pi,sigma_u,sigma_v):\n",
    "    u = iid.norm(scale=sigma_u).rvs(N)\n",
    "    v = iid.norm(scale=sigma_v).rvs(N)\n",
    "    Z = iid.norm().rvs(N)\n",
    "\n",
    "    X = Z*pi + v\n",
    "    y = X*beta + Z*gamma + u  # adding the term Z*gamma\n",
    "\n",
    "    df = pd.DataFrame({'y':y,'x':X,'z':Z,'Constant':1})\n",
    "    \n",
    "    return df[['y']],df[['Constant','x']],df[['Constant','z']] \n",
    "\n"
   ]
  },
  {
   "cell_type": "markdown",
   "metadata": {},
   "source": [
    "Repeatedly draw new random samples and estimate b from them. Note that we assume the true value of beta = 1.\n"
   ]
  },
  {
   "cell_type": "code",
   "execution_count": 4,
   "metadata": {},
   "outputs": [
    {
     "data": {
      "text/plain": [
       "array([[<AxesSubplot:title={'center':'0'}>]], dtype=object)"
      ]
     },
     "execution_count": 4,
     "metadata": {},
     "output_type": "execute_result"
    },
    {
     "data": {
      "image/png": "[encoded data removed]",
      "text/plain": [
       "<Figure size 640x480 with 1 Axes>"
      ]
     },
     "metadata": {},
     "output_type": "display_data"
    }
   ],
   "source": [
    "\n",
    "B = pd.DataFrame({}) # create empty dataframe \n",
    "gammas = [0] #iterate over list of gammas\n",
    "for gamma in gammas:\n",
    "    B[gamma] = pd.DataFrame([draw_b(100,\n",
    "                                    lambda N: linear_dgp_new(N,1,gamma,.01,1,1))[0] for i in range(100)])\n",
    "    \n",
    "B.mean() # print means\n",
    "B.hist(bins=int(np.ceil(np.sqrt(B.shape[0]))))\n"
   ]
  },
  {
   "cell_type": "markdown",
   "metadata": {},
   "source": [
    "With $\\gamma \\neq 0$, we have the estimates for b shown below. As $\\gamma$ moves away from zero, exogeneity is no longer plausible and beta is not centered at its true value of 1."
   ]
  },
  {
   "cell_type": "markdown",
   "metadata": {},
   "source": [
    "Repeatedly draw new random samples and calculate b from them"
   ]
  },
  {
   "cell_type": "code",
   "execution_count": 5,
   "metadata": {},
   "outputs": [
    {
     "data": {
      "text/html": [
       "<div>\n",
       "<style scoped>\n",
       "    .dataframe tbody tr th:only-of-type {\n",
       "        vertical-align: middle;\n",
       "    }\n",
       "\n",
       "    .dataframe tbody tr th {\n",
       "        vertical-align: top;\n",
       "    }\n",
       "\n",
       "    .dataframe thead th {\n",
       "        text-align: right;\n",
       "    }\n",
       "</style>\n",
       "<table border=\"1\" class=\"dataframe\">\n",
       "  <thead>\n",
       "    <tr style=\"text-align: right;\">\n",
       "      <th></th>\n",
       "      <th>0</th>\n",
       "      <th>1</th>\n",
       "    </tr>\n",
       "  </thead>\n",
       "  <tbody>\n",
       "    <tr>\n",
       "      <th>0</th>\n",
       "      <td>[-13.79916370757091]</td>\n",
       "      <td>-14.378693</td>\n",
       "    </tr>\n",
       "    <tr>\n",
       "      <th>1</th>\n",
       "      <td>[28.520411461164514]</td>\n",
       "      <td>27.949004</td>\n",
       "    </tr>\n",
       "    <tr>\n",
       "      <th>2</th>\n",
       "      <td>[-8.235623332916884]</td>\n",
       "      <td>-8.860584</td>\n",
       "    </tr>\n",
       "    <tr>\n",
       "      <th>3</th>\n",
       "      <td>[37.20297508157369]</td>\n",
       "      <td>35.071265</td>\n",
       "    </tr>\n",
       "    <tr>\n",
       "      <th>4</th>\n",
       "      <td>[122.13096099865024]</td>\n",
       "      <td>112.055649</td>\n",
       "    </tr>\n",
       "    <tr>\n",
       "      <th>5</th>\n",
       "      <td>[26.306902737592544]</td>\n",
       "      <td>26.581609</td>\n",
       "    </tr>\n",
       "    <tr>\n",
       "      <th>6</th>\n",
       "      <td>[28.387316629676246]</td>\n",
       "      <td>30.705120</td>\n",
       "    </tr>\n",
       "    <tr>\n",
       "      <th>7</th>\n",
       "      <td>[-9.49100473346927]</td>\n",
       "      <td>-11.478778</td>\n",
       "    </tr>\n",
       "    <tr>\n",
       "      <th>8</th>\n",
       "      <td>[-13.674918580021489]</td>\n",
       "      <td>-15.643957</td>\n",
       "    </tr>\n",
       "    <tr>\n",
       "      <th>9</th>\n",
       "      <td>[23.6691929408981]</td>\n",
       "      <td>23.681623</td>\n",
       "    </tr>\n",
       "  </tbody>\n",
       "</table>\n",
       "</div>"
      ],
      "text/plain": [
       "                       0           1\n",
       "0   [-13.79916370757091]  -14.378693\n",
       "1   [28.520411461164514]   27.949004\n",
       "2   [-8.235623332916884]   -8.860584\n",
       "3    [37.20297508157369]   35.071265\n",
       "4   [122.13096099865024]  112.055649\n",
       "5   [26.306902737592544]   26.581609\n",
       "6   [28.387316629676246]   30.705120\n",
       "7    [-9.49100473346927]  -11.478778\n",
       "8  [-13.674918580021489]  -15.643957\n",
       "9     [23.6691929408981]   23.681623"
      ]
     },
     "execution_count": 5,
     "metadata": {},
     "output_type": "execute_result"
    }
   ],
   "source": [
    "# df of bets_2sls and A\n",
    "pd.DataFrame([draw_b(100, lambda N: linear_dgp_new(N,1,1,.01,1,1)) for i in range(10)])"
   ]
  },
  {
   "cell_type": "code",
   "execution_count": 6,
   "metadata": {},
   "outputs": [
    {
     "data": {
      "text/html": [
       "<div>\n",
       "<style scoped>\n",
       "    .dataframe tbody tr th:only-of-type {\n",
       "        vertical-align: middle;\n",
       "    }\n",
       "\n",
       "    .dataframe tbody tr th {\n",
       "        vertical-align: top;\n",
       "    }\n",
       "\n",
       "    .dataframe thead th {\n",
       "        text-align: right;\n",
       "    }\n",
       "</style>\n",
       "<table border=\"1\" class=\"dataframe\">\n",
       "  <thead>\n",
       "    <tr style=\"text-align: right;\">\n",
       "      <th></th>\n",
       "      <th>-100.00</th>\n",
       "      <th>-1.00</th>\n",
       "      <th>-0.01</th>\n",
       "      <th>0.00</th>\n",
       "      <th>0.01</th>\n",
       "      <th>1.00</th>\n",
       "      <th>100.00</th>\n",
       "    </tr>\n",
       "  </thead>\n",
       "  <tbody>\n",
       "    <tr>\n",
       "      <th>0</th>\n",
       "      <td>-1477.812880</td>\n",
       "      <td>-6.520682</td>\n",
       "      <td>-0.021538</td>\n",
       "      <td>0.662727</td>\n",
       "      <td>3.190675</td>\n",
       "      <td>8.274564</td>\n",
       "      <td>-1454.054061</td>\n",
       "    </tr>\n",
       "    <tr>\n",
       "      <th>1</th>\n",
       "      <td>-426.050844</td>\n",
       "      <td>-5.913497</td>\n",
       "      <td>0.284967</td>\n",
       "      <td>1.607239</td>\n",
       "      <td>0.439318</td>\n",
       "      <td>10.078317</td>\n",
       "      <td>-22080.751506</td>\n",
       "    </tr>\n",
       "    <tr>\n",
       "      <th>2</th>\n",
       "      <td>1192.793072</td>\n",
       "      <td>-15.246178</td>\n",
       "      <td>-0.583398</td>\n",
       "      <td>1.162502</td>\n",
       "      <td>0.807018</td>\n",
       "      <td>12.607188</td>\n",
       "      <td>-603.289930</td>\n",
       "    </tr>\n",
       "    <tr>\n",
       "      <th>3</th>\n",
       "      <td>5975.109243</td>\n",
       "      <td>-6.775609</td>\n",
       "      <td>0.423772</td>\n",
       "      <td>0.474916</td>\n",
       "      <td>-4.694349</td>\n",
       "      <td>16.320049</td>\n",
       "      <td>4622.475868</td>\n",
       "    </tr>\n",
       "    <tr>\n",
       "      <th>4</th>\n",
       "      <td>-825.794110</td>\n",
       "      <td>550.965678</td>\n",
       "      <td>-0.182401</td>\n",
       "      <td>3.870660</td>\n",
       "      <td>-1.615118</td>\n",
       "      <td>18.124018</td>\n",
       "      <td>-1839.627542</td>\n",
       "    </tr>\n",
       "    <tr>\n",
       "      <th>5</th>\n",
       "      <td>356.960362</td>\n",
       "      <td>-178.148660</td>\n",
       "      <td>-3.212276</td>\n",
       "      <td>1.986394</td>\n",
       "      <td>-1.420095</td>\n",
       "      <td>-8.550536</td>\n",
       "      <td>733.350062</td>\n",
       "    </tr>\n",
       "    <tr>\n",
       "      <th>6</th>\n",
       "      <td>532.548829</td>\n",
       "      <td>15.481743</td>\n",
       "      <td>-4.079841</td>\n",
       "      <td>7.329226</td>\n",
       "      <td>-0.425519</td>\n",
       "      <td>-32.136964</td>\n",
       "      <td>6236.529807</td>\n",
       "    </tr>\n",
       "    <tr>\n",
       "      <th>7</th>\n",
       "      <td>-425.288006</td>\n",
       "      <td>75.714282</td>\n",
       "      <td>8.102512</td>\n",
       "      <td>-20.267703</td>\n",
       "      <td>-2.418063</td>\n",
       "      <td>-4.291770</td>\n",
       "      <td>-6088.853862</td>\n",
       "    </tr>\n",
       "    <tr>\n",
       "      <th>8</th>\n",
       "      <td>-643.558269</td>\n",
       "      <td>18.032927</td>\n",
       "      <td>2.140496</td>\n",
       "      <td>-2.914164</td>\n",
       "      <td>0.470285</td>\n",
       "      <td>8.981381</td>\n",
       "      <td>404.573281</td>\n",
       "    </tr>\n",
       "    <tr>\n",
       "      <th>9</th>\n",
       "      <td>1438.793824</td>\n",
       "      <td>165.566620</td>\n",
       "      <td>-1.576123</td>\n",
       "      <td>0.464858</td>\n",
       "      <td>-2.474002</td>\n",
       "      <td>-169.461828</td>\n",
       "      <td>550.701843</td>\n",
       "    </tr>\n",
       "  </tbody>\n",
       "</table>\n",
       "</div>"
      ],
      "text/plain": [
       "       -100.00     -1.00     -0.01       0.00      0.01        1.00    \\\n",
       "0 -1477.812880   -6.520682 -0.021538   0.662727  3.190675    8.274564   \n",
       "1  -426.050844   -5.913497  0.284967   1.607239  0.439318   10.078317   \n",
       "2  1192.793072  -15.246178 -0.583398   1.162502  0.807018   12.607188   \n",
       "3  5975.109243   -6.775609  0.423772   0.474916 -4.694349   16.320049   \n",
       "4  -825.794110  550.965678 -0.182401   3.870660 -1.615118   18.124018   \n",
       "5   356.960362 -178.148660 -3.212276   1.986394 -1.420095   -8.550536   \n",
       "6   532.548829   15.481743 -4.079841   7.329226 -0.425519  -32.136964   \n",
       "7  -425.288006   75.714282  8.102512 -20.267703 -2.418063   -4.291770   \n",
       "8  -643.558269   18.032927  2.140496  -2.914164  0.470285    8.981381   \n",
       "9  1438.793824  165.566620 -1.576123   0.464858 -2.474002 -169.461828   \n",
       "\n",
       "         100.00  \n",
       "0  -1454.054061  \n",
       "1 -22080.751506  \n",
       "2   -603.289930  \n",
       "3   4622.475868  \n",
       "4  -1839.627542  \n",
       "5    733.350062  \n",
       "6   6236.529807  \n",
       "7  -6088.853862  \n",
       "8    404.573281  \n",
       "9    550.701843  "
      ]
     },
     "execution_count": 6,
     "metadata": {},
     "output_type": "execute_result"
    }
   ],
   "source": [
    "N_sample = 100\n",
    "B = pd.DataFrame({}) # create empty dataframe \n",
    "gammas = [-100,-1,-0.01,0,0.01,1,100] #iterate over list of gammas\n",
    "for gamma in gammas:\n",
    "    B[gamma] = pd.DataFrame([draw_b(N_sample,\n",
    "                                    lambda N: linear_dgp_new(N,1,gamma,.01,1,1))[0] for i in range(10)])\n",
    "\n",
    "B.mean() # print means\n",
    "B"
   ]
  },
  {
   "cell_type": "markdown",
   "metadata": {
    "slideshow": {
     "slide_type": "subslide"
    }
   },
   "source": [
    "## Q 3.2.2\n",
    "\n",
    "To test the null that $b(\\gamma) = b(0)=1$, we construct confidence intervals using the variance of $\\beta.$ As explained in Conley, Hansen, and Rossi (2012), these confidence intervals can be estimated in four different ways:\n",
    "\n",
    "1. Union of confidence intervals with $\\gamma$ support assumption\n",
    "2. Union of prior-weighted confidence intervals\n",
    "3. $\\gamma$ local-to-zero approximation\n",
    "4. Full Bayesian analysis\n",
    "\n",
    "I opt for the third method where we impose an assumption on the distribution of gamma. \n",
    "If we are convinced about the exclusion restriction, then $\\gamma=0$ and this exercise is unnecessary. If not, the distrubution of $\\beta$ has an additional term, $A\\gamma$. That is,\n",
    "\n",
    "$$\\hat{\\beta} \\sim N(\\beta, V_{2SLS}) + A\\gamma $$\n",
    "\n",
    "where $A = (X'Z(Z'Z)^{-1}Z'X)^{-1}(X'Z)$ and $\\gamma \\sim F$ for some distribution F. \n",
    "\n",
    "To test whether $b(\\gamma) = b(0)$, we construct $\\Delta = \\beta - \\hat{\\beta}$ such that\n",
    "\n",
    "$\n",
    "\\begin{align}\n",
    "    \\hat{\\beta} & \\sim N(\\beta, V_{2SLS}) + A\\gamma \\\\\n",
    "    \\beta - \\hat{\\beta} & \\sim \\beta -  N(\\beta, V_{2SLS}) + A\\gamma \\\\\n",
    "    \\Delta & \\sim  N(\\beta -\\beta, V_{2SLS}) + A\\gamma \\\\\n",
    "    \\Delta & \\sim  N(0, V_{2SLS}) + A\\gamma\n",
    "\\end{align}\n",
    "$\n",
    "\n",
    "and follow the five steps below proposed in Conley, Hansen, and Rossi (2012) section III.C. Here we assume for simplicity that $\\gamma \\sim N(\\mu_{\\gamma}=0, \\sigma_{\\gamma}=1)$.\n",
    "\n",
    "1. Use any standard software package to compute A and the 2SLS covariance matrix $V_{2SLS}$.\n",
    "2. Generate one draw, $\\Delta_1$, from the desired distribution by generating a $N(0, V_{2SLS})$ draw and adding it to A times a draw from F.\n",
    "3. Repeat step 2 B times for some large number B to generate a set of $\\Delta$ draws: $\\Delta_1$, $\\Delta_2$, ... ,$\\Delta_B$.\n",
    "4. Compute percentiles of the B draws to use for confidence intervals. For example, find the $\\alpha/2$ and $1 − \\alpha/2$ percentiles, and label them $c_{\\alpha/2}$ and $c_{1−\\alpha/2}$, respectively.\n",
    "5. Construct a $(1 − \\alpha)$, confidence interval for $\\beta$ as [$\\hat{\\beta} - c_{1−\\alpha/2}$,  $\\hat{\\beta}-c_{\\alpha/2}]$.\n"
   ]
  },
  {
   "cell_type": "code",
   "execution_count": 7,
   "metadata": {},
   "outputs": [
    {
     "data": {
      "text/plain": [
       "0.1    0.764332\n",
       "dtype: float64"
      ]
     },
     "execution_count": 7,
     "metadata": {},
     "output_type": "execute_result"
    }
   ],
   "source": [
    "N_sample = 100\n",
    "delta = pd.DataFrame({}) # create empty dataframe \n",
    "gammas = [0.1] #iterate over list of gammas\n",
    "\n",
    "# Steps 1 - 3\n",
    "for gamma in gammas:\n",
    "    \n",
    "    # Draw values of beta from 2sls as before and\n",
    "    # Draw values of gamma assuming a normal distribution defined in draw_F\n",
    "    \n",
    "    temp = pd.DataFrame([draw_b(N_sample,lambda N: linear_dgp_new(N,1,gamma,.01,1,1)) for i in range(1000)])\n",
    "    beta = np.float32(temp[0]) # np.float needed for quantile function below\n",
    "    A = np.float32(temp[1])\n",
    "\n",
    "    delta[gamma] = beta + draw_F(gamma)*A \n",
    "    \n",
    "delta.mean() # print means"
   ]
  },
  {
   "cell_type": "code",
   "execution_count": 11,
   "metadata": {},
   "outputs": [
    {
     "data": {
      "text/plain": [
       "array([[<AxesSubplot:title={'center':'0.1'}>]], dtype=object)"
      ]
     },
     "execution_count": 11,
     "metadata": {},
     "output_type": "execute_result"
    },
    {
     "data": {
      "image/png": "[encoded data removed]",
      "text/plain": [
       "<Figure size 640x480 with 1 Axes>"
      ]
     },
     "metadata": {},
     "output_type": "display_data"
    }
   ],
   "source": [
    "# plot histogram for given value of gamma\n",
    "delta.hist(bins=int(np.ceil(np.sqrt(delta.shape[0]))))"
   ]
  },
  {
   "cell_type": "markdown",
   "metadata": {},
   "source": [
    "Compute percentiles of the B draws to use for confidence intervals. That is, find the $\\alpha/2$ and $1 − \\alpha/2$ percentiles, and label them $c_{\\alpha/2}$ and $c_{1−\\alpha/2}$, respectively."
   ]
  },
  {
   "cell_type": "code",
   "execution_count": 14,
   "metadata": {},
   "outputs": [
    {
     "data": {
      "text/plain": [
       "(array([-32.8975], dtype=float32), array([29.801739], dtype=float32))"
      ]
     },
     "execution_count": 14,
     "metadata": {},
     "output_type": "execute_result"
    }
   ],
   "source": [
    "# Step 4\n",
    "confidence = 0.95\n",
    "alpha = 1 - confidence\n",
    "c_a2 = np.float32(delta.quantile(alpha/2))\n",
    "c_1_less_a2 = np.float32(delta.quantile(1-alpha/2))\n",
    "c_a2, c_1_less_a2"
   ]
  },
  {
   "cell_type": "markdown",
   "metadata": {},
   "source": [
    "We construct a $(1 − \\alpha)$, confidence interval for $\\beta$ as [$\\hat{\\beta} - c_{1−\\alpha/2}$,  $\\hat{\\beta}-c_{\\alpha/2}]$."
   ]
  },
  {
   "cell_type": "code",
   "execution_count": 9,
   "metadata": {},
   "outputs": [
    {
     "data": {
      "text/plain": [
       "(0.1   -29.566071\n",
       " dtype: float64,\n",
       " 0.1    33.133167\n",
       " dtype: float64)"
      ]
     },
     "execution_count": 9,
     "metadata": {},
     "output_type": "execute_result"
    }
   ],
   "source": [
    "# Step 5\n",
    "# beta_hat = beta-delta\n",
    "beta_hat = 1 - delta.mean() # not sure about this step. What is beta_hat?\n",
    "CI = beta_hat - c_1_less_a2, beta_hat - c_a2\n",
    "CI"
   ]
  },
  {
   "cell_type": "markdown",
   "metadata": {},
   "source": [
    "We cannot reject the null hypothesis that $b(\\gamma)=b(0)$."
   ]
  },
  {
   "cell_type": "markdown",
   "metadata": {},
   "source": [
    "## Q 3.2.3\n",
    "\n",
    "We extend the analysis from the previous question. Instead of setting $\\gamma$ directly, here we set the covariance between the instrument $Z$ and the endogenous regressor $X$. Recall that $\\gamma=Cov(Z,X)/Var(Z)$.\n",
    "\n",
    "To test the null that $b(\\gamma) = b(0)=1$ in this case, it is easier to use the union of confidence intervals approach. We start with a list of plausible values for $Cov(Z,X)=\\sigma_{Z,X}$. For each value in the lest, we compute $\\gamma$ and the associated confidence interval. Then we take the union of these confidence intervals.\n"
   ]
  }
 ],
 "metadata": {
  "kernelspec": {
   "display_name": "Python 3 (ipykernel)",
   "language": "python",
   "name": "python3"
  },
  "language_info": {
   "codemirror_mode": {
    "name": "ipython",
    "version": 3
   },
   "file_extension": ".py",
   "mimetype": "text/x-python",
   "name": "python",
   "nbconvert_exporter": "python",
   "pygments_lexer": "ipython3",
   "version": "3.9.15"
  },
  "org": null
 },
 "nbformat": 4,
 "nbformat_minor": 1
}
